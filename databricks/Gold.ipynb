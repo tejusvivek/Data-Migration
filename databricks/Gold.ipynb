{
 "cells": [
  {
   "cell_type": "code",
   "execution_count": 0,
   "metadata": {
    "application/vnd.databricks.v1+cell": {
     "cellMetadata": {
      "byteLimit": 2048000,
      "rowLimit": 10000
     },
     "inputWidgets": {},
     "nuid": "9fceb395-4a8c-4105-8ceb-f47ec0a558e8",
     "showTitle": false,
     "tableResultSettingsMap": {
      "2": {
       "dataGridStateBlob": null,
       "filterBlob": "{\"filterGroups\":[],\"syncTimestamp\":1744500705843}",
       "tableResultIndex": 2
      }
     },
     "title": ""
    }
   },
   "outputs": [],
   "source": [
    "users_data_df = spark.read.format(\"delta\").load(\"/mnt/adls21s/silver/users_data/\")\n",
    "display(users_data_df)\n",
    "cards_data_df = spark.read.format(\"delta\").load(\"/mnt/adls21s/silver/cards_data/\")\n",
    "display(cards_data_df)\n",
    "transactions_data_df = spark.read.format(\"delta\").load(\"/mnt/adls21s/silver/transactions_data/\")\n",
    "display(transactions_data_df)"
   ]
  },
  {
   "cell_type": "code",
   "execution_count": 0,
   "metadata": {
    "application/vnd.databricks.v1+cell": {
     "cellMetadata": {
      "byteLimit": 2048000,
      "rowLimit": 10000
     },
     "inputWidgets": {},
     "nuid": "d9374bf8-a8b6-4aec-b788-eb31a8ac27a5",
     "showTitle": true,
     "tableResultSettingsMap": {
      "0": {
       "dataGridStateBlob": null,
       "filterBlob": "{\"filterGroups\":[{\"enabled\":true,\"filterGroupId\":\"fg_428b3abd\",\"op\":\"OR\",\"filters\":[{\"filterId\":\"f_9e9aa477\",\"enabled\":true,\"columnId\":\"merchant_id\",\"dataType\":\"integer\",\"filterType\":\"eq\",\"filterValue\":\"66010\",\"filterConfig\":{}}],\"local\":false,\"updatedAt\":1744505500360}],\"syncTimestamp\":1744505500360}",
       "tableResultIndex": 0
      }
     },
     "title": "Data Modelling"
    }
   },
   "outputs": [],
   "source": [
    "from pyspark.sql.functions import year, month, day, hour, minute, second, col, date_diff, current_date\n",
    "\n",
    "#Creating dimension date table\n",
    "dim_date = transactions_data_df.select(\"transaction_id\", year((\"date\")), month((\"date\")), day((\"date\")), hour((\"date\")), minute((\"date\")))\n",
    "dim_date = dim_date.withColumnRenamed(\"year(date)\", \"year\").withColumnRenamed(\"month(date)\", \"month\").withColumnRenamed(\"day(date)\", \"day\").withColumnRenamed(\"hour(date)\", \"hour\").withColumnRenamed(\"minute(date)\", \"minute\")\n",
    "\n",
    "#Creating dimesion user table\n",
    "dim_users = users_data_df.select(\"user_id\", \"current_age\", \"retirement_age\", \"birth_year\", \"birth_month\", \"gender\", \"credit_score\", \"num_credit_cards\", \"per_capita_income_in_$\", \"yearly_income_in_$\", \"total_debt_in_$\")\n",
    "\n",
    "#Creating dimesion card table\n",
    "dim_cards = cards_data_df.select(\"card_id\", col(\"client_id\").alias(\"user_id\"), \"card_brand\", \"card_type\", year(\"expires\").alias(\"year\"), month(\"expires\").alias(\"month\"), \"has_chip\", \"num_cards_issued\", \"acct_open_date\", \"year_pin_last_changed\", \"card_on_dark_web\", \"credit_limit_in_$\").withColumn(\"acct_age_yrs\", date_diff(current_date(), col(\"acct_open_date\"))/365)\n",
    "\n",
    "#Creating dimesion merchant table\n",
    "dim_merchants = transactions_data_df.select(\"merchant_id\", \"merchant_city\", \"merchant_state\", \"zip\", \"mcc\")\n",
    "\n",
    "#Creating fact transaction table\n",
    "fact_transactions = transactions_data_df.select(\"transaction_id\", col(\"client_id\").alias(\"user_id\"), \"card_id\", \"use_chip\", \"merchant_id\", \"amount_in_$\", \"errors\")\n",
    "\n",
    "display(dim_merchants)\n"
   ]
  },
  {
   "cell_type": "code",
   "execution_count": 0,
   "metadata": {
    "application/vnd.databricks.v1+cell": {
     "cellMetadata": {
      "byteLimit": 2048000,
      "rowLimit": 10000
     },
     "inputWidgets": {},
     "nuid": "1fb2bed4-5604-4f39-aa20-25cef98b00cf",
     "showTitle": true,
     "tableResultSettingsMap": {},
     "title": "Checking uniqueness of Keys"
    }
   },
   "outputs": [],
   "source": [
    "print(dim_merchants.groupBy(\"merchant_id\").count().filter(\"count > 1\").count())\n",
    "\n",
    "'''Since dim_merchants has duplicate merchant_ids for unique transactions, we create surrogate key in fact_transactions, and dim_merchants'''\n",
    "\n",
    "from pyspark.sql.functions import monotonically_increasing_id\n",
    "dim_merchants = dim_merchants.withColumn(\"merchant_sk\", monotonically_increasing_id())\n",
    "display(dim_merchants)\n",
    "\n",
    "fact_transactions = fact_transactions.withColumn(\"merchant_sk\", monotonically_increasing_id()).drop(\"merchant_id\")\n",
    "display(fact_transactions)"
   ]
  },
  {
   "cell_type": "code",
   "execution_count": 0,
   "metadata": {
    "application/vnd.databricks.v1+cell": {
     "cellMetadata": {
      "byteLimit": 2048000,
      "rowLimit": 10000
     },
     "inputWidgets": {},
     "nuid": "847e33eb-c6e6-43d0-bb6f-5dc7f1188506",
     "showTitle": true,
     "tableResultSettingsMap": {},
     "title": "Writing to GOLD"
    }
   },
   "outputs": [],
   "source": [
    "from delta.tables import DeltaTable\n",
    "spark.conf.set(\"spark.databricks.delta.schema.autoMerge.enabled\", \"true\")\n",
    "\n",
    "# Path to Delta table\n",
    "dim_date_delta_table_path = \"/mnt/adls21s/gold/dim_date/\"\n",
    "dim_cards_delta_table_path = \"/mnt/adls21s/gold/dim_cards/\"\n",
    "dim_users_delta_table_path = \"/mnt/adls21s/gold/dim_users/\"\n",
    "dim_merchants_delta_table_path = \"/mnt/adls21s/gold/dim_merchants/\"\n",
    "fact_transactions_delta_table_path = \"/mnt/adls21s/gold/fact_transactions/\"\n",
    "\n",
    "dim_merchants.cache()\n",
    "\n",
    "# Create Delta table (if not already created)\n",
    "if not DeltaTable.isDeltaTable(spark, dim_date_delta_table_path):\n",
    "    dim_date.write.format(\"delta\").mode(\"overwrite\").save(dim_date_delta_table_path)\n",
    "else:\n",
    "    dim_date.write.format(\"delta\").mode(\"append\").option(\"mergeSchema\", \"true\").save(dim_date_delta_table_path)\n",
    "\n",
    "if not DeltaTable.isDeltaTable(spark,dim_cards_delta_table_path):\n",
    "    dim_cards.write.format(\"delta\").mode(\"overwrite\").partitionBy(\"card_brand\",\"year\",\"month\").save(dim_cards_delta_table_path)\n",
    "else:\n",
    "    dim_cards.write.format(\"delta\").mode(\"append\").option(\"mergeSchema\", \"true\").partitionBy(\"card_brand\",\"year\",\"month\").save(dim_cards_delta_table_path)\n",
    "\n",
    "if not DeltaTable.isDeltaTable(spark, dim_users_delta_table_path):\n",
    "   dim_users.write.format(\"delta\").mode(\"overwrite\").partitionBy(\"gender\").save(dim_users_delta_table_path)\n",
    "else:\n",
    "    dim_users.write.format(\"delta\").mode(\"append\").option(\"mergeSchema\", \"true\").partitionBy(\"gender\").save(dim_users_delta_table_path)\n",
    "\n",
    "if not DeltaTable.isDeltaTable(spark, dim_merchants_delta_table_path):\n",
    "   dim_merchants.write.format(\"delta\").mode(\"overwrite\").partitionBy(\"merchant_state\").save(dim_merchants_delta_table_path)\n",
    "else:\n",
    "    dim_merchants.write.format(\"delta\").mode(\"append\").option(\"mergeSchema\", \"true\").partitionBy(\"merchant_state\").save(dim_merchants_delta_table_path)\n",
    "\n",
    "if not DeltaTable.isDeltaTable(spark, fact_transactions_delta_table_path):\n",
    "   fact_transactions.write.format(\"delta\").mode(\"overwrite\") \\\n",
    "       .save(fact_transactions_delta_table_path)\n",
    "else:\n",
    "    fact_transactions.write.format(\"delta\").mode(\"append\").option(\"mergeSchema\", \"true\").save(fact_transactions_delta_table_path)\n",
    "\n",
    "\n",
    "\n",
    "\n",
    "# Load the existing Delta table\n",
    "dim_date_delta_table = DeltaTable.forPath(spark, (dim_date_delta_table_path))\n",
    "dim_cards_delta_table = DeltaTable.forPath(spark,(dim_cards_delta_table_path))\n",
    "dim_users_delta_table = DeltaTable.forPath(spark,(dim_users_delta_table_path))\n",
    "dim_merchants_delta_table = DeltaTable.forPath(spark,(dim_merchants_delta_table_path))\n",
    "fact_transactions_delta_table = DeltaTable.forPath(spark,(fact_transactions_delta_table_path))\n",
    "\n",
    "spark.sql(\"\"\"\n",
    "    OPTIMIZE delta.`/mnt/adls21s/gold/dim_merchants/`\n",
    "    ZORDER BY (merchant_id)\n",
    "\"\"\")\n",
    "\n",
    "# Define the condition for the merge: match based on a unique key\n",
    "merge_condition_dim_users = \"t1.user_id = t2.user_id\"\n",
    "merge_condition_dim_cards = \"t1.card_id = t2.card_id\"\n",
    "merge_condition_fact_transactions = \"t1.transaction_id = t2.transaction_id\"\n",
    "merge_condition_dim_date = \"t1.transaction_id = t2.transaction_id\"\n",
    "merge_condition_dim_merchants = \"t1.merchant_sk = t2.merchant_sk\"\n",
    "\n",
    "# Perform the merge (upsert operation)\n",
    "dim_users_delta_table.alias(\"t1\").merge(\n",
    "    dim_users.alias(\"t2\"),\n",
    "    merge_condition_dim_users\n",
    ").whenMatchedUpdateAll() \\\n",
    " .whenNotMatchedInsertAll() \\\n",
    " .execute()\n",
    "\n",
    "dim_cards_delta_table.alias(\"t1\").merge(\n",
    "    dim_cards.alias(\"t2\"),\n",
    "    merge_condition_dim_cards\n",
    ").whenMatchedUpdateAll() \\\n",
    " .whenNotMatchedInsertAll() \\\n",
    " .execute()\n",
    "\n",
    "dim_date_delta_table.alias(\"t1\").merge(\n",
    "    dim_date.alias(\"t2\"),\n",
    "    merge_condition_dim_date\n",
    ").whenMatchedUpdateAll() \\\n",
    " .whenNotMatchedInsertAll() \\\n",
    " .execute()\n",
    "\n",
    "dim_merchants_delta_table.alias(\"t1\").merge(\n",
    "    dim_merchants.alias(\"t2\"),\n",
    "    merge_condition_dim_merchants\n",
    ").whenMatchedUpdateAll() \\\n",
    " .whenNotMatchedInsertAll() \\\n",
    " .execute()\n",
    "\n",
    "fact_transactions_delta_table.alias(\"t1\").merge(\n",
    "    fact_transactions.alias(\"t2\"),\n",
    "    merge_condition_fact_transactions\n",
    ").whenMatchedUpdateAll() \\\n",
    " .whenNotMatchedInsertAll() \\\n",
    " .execute()"
   ]
  }
 ],
 "metadata": {
  "application/vnd.databricks.v1+notebook": {
   "computePreferences": null,
   "dashboards": [],
   "environmentMetadata": {
    "base_environment": "",
    "environment_version": "2"
   },
   "inputWidgetPreferences": null,
   "language": "python",
   "notebookMetadata": {
    "pythonIndentUnit": 4
   },
   "notebookName": "Gold",
   "widgets": {}
  },
  "language_info": {
   "name": "python"
  }
 },
 "nbformat": 4,
 "nbformat_minor": 0
}
