{
 "cells": [
  {
   "cell_type": "code",
   "execution_count": 0,
   "metadata": {
    "application/vnd.databricks.v1+cell": {
     "cellMetadata": {
      "byteLimit": 2048000,
      "rowLimit": 10000
     },
     "inputWidgets": {},
     "nuid": "9fceb395-4a8c-4105-8ceb-f47ec0a558e8",
     "showTitle": false,
     "tableResultSettingsMap": {
      "2": {
       "dataGridStateBlob": null,
       "filterBlob": "{\"filterGroups\":[{\"enabled\":true,\"filterGroupId\":\"fg_a24c7350\",\"op\":\"OR\",\"filters\":[{\"filterId\":\"f_6ed4757c\",\"enabled\":true,\"columnId\":\"merchant_id\",\"dataType\":\"integer\",\"filterType\":\"eq\",\"filterValue\":\"68977\",\"filterConfig\":{}}],\"local\":false,\"updatedAt\":1744437747383}],\"syncTimestamp\":1744437747383}",
       "tableResultIndex": 2
      }
     },
     "title": ""
    }
   },
   "outputs": [],
   "source": [
    "users_data_df = spark.read.format(\"delta\").load(\"/mnt/adls21s/silver/users_data/\")\n",
    "display(users_data_df)\n",
    "cards_data_df = spark.read.format(\"delta\").load(\"/mnt/adls21s/silver/cards_data/\")\n",
    "display(cards_data_df)\n",
    "transactions_data_df = spark.read.format(\"delta\").load(\"/mnt/adls21s/silver/transactions_data/\")\n",
    "display(transactions_data_df)"
   ]
  },
  {
   "cell_type": "code",
   "execution_count": 0,
   "metadata": {
    "application/vnd.databricks.v1+cell": {
     "cellMetadata": {
      "byteLimit": 2048000,
      "rowLimit": 10000
     },
     "inputWidgets": {},
     "nuid": "d9374bf8-a8b6-4aec-b788-eb31a8ac27a5",
     "showTitle": true,
     "tableResultSettingsMap": {},
     "title": "Data Modelling"
    }
   },
   "outputs": [],
   "source": [
    "from pyspark.sql.functions import year, month, day, hour, minute, second, col, date_diff, current_date\n",
    "\n",
    "#Creating dimension date table\n",
    "dim_date = transactions_data_df.select(\"transaction_id\", year((\"date\")), month((\"date\")), day((\"date\")), hour((\"date\")), minute((\"date\")))\n",
    "dim_date = dim_date.withColumnRenamed(\"year(date)\", \"year\").withColumnRenamed(\"month(date)\", \"month\").withColumnRenamed(\"day(date)\", \"day\").withColumnRenamed(\"hour(date)\", \"hour\").withColumnRenamed(\"minute(date)\", \"minute\")\n",
    "\n",
    "#Creating dimesion user table\n",
    "dim_users = users_data_df.select(\"user_id\", \"current_age\", \"retirement_age\", \"birth_year\", \"birth_month\", \"gender\", \"credit_score\", \"num_credit_cards\", \"per_capita_income_in_$\", \"yearly_income_in_$\", \"total_debt_in_$\")\n",
    "\n",
    "#Creating dimesion card table\n",
    "dim_cards = cards_data_df.select(\"card_id\", col(\"client_id\").alias(\"user_id\"), \"card_brand\", \"card_type\", year(\"expires\").alias(\"year\"), month(\"expires\").alias(\"month\"), \"has_chip\", \"num_cards_issued\", \"acct_open_date\", \"year_pin_last_changed\", \"card_on_dark_web\", \"credit_limit_in_$\").withColumn(\"acct_age_yrs\", date_diff(current_date(), col(\"acct_open_date\"))/365)\n",
    "\n",
    "#Creating dimesion merchant table\n",
    "dim_merchants = transactions_data_df.select(\"merchant_id\", \"merchant_city\", \"merchant_state\", \"zip\", \"mcc\")\n",
    "\n",
    "#Creating fact transaction table\n",
    "fact_transactions = transactions_data_df.select(\"transaction_id\", col(\"client_id\").alias(\"user_id\"), \"card_id\", \"use_chip\", \"merchant_id\", \"amount_in_$\", \"errors\")\n"
   ]
  },
  {
   "cell_type": "code",
   "execution_count": 0,
   "metadata": {
    "application/vnd.databricks.v1+cell": {
     "cellMetadata": {
      "byteLimit": 2048000,
      "rowLimit": 10000
     },
     "inputWidgets": {},
     "nuid": "7f3f08a1-7bea-49f8-b39a-3d09b4d98330",
     "showTitle": false,
     "tableResultSettingsMap": {
      "0": {
       "dataGridStateBlob": null,
       "filterBlob": "{\"filterGroups\":[{\"enabled\":true,\"filterGroupId\":\"fg_a9025c30\",\"op\":\"OR\",\"filters\":[{\"filterId\":\"f_4ec5325f\",\"enabled\":true,\"columnId\":\"merchant_id\",\"dataType\":\"integer\",\"filterType\":\"eq\",\"filterValue\":\"68977\",\"filterConfig\":{}}],\"local\":false,\"updatedAt\":1744437961960}],\"syncTimestamp\":1744437961961}",
       "tableResultIndex": 0
      }
     },
     "title": ""
    }
   },
   "outputs": [],
   "source": [
    "transactions = display(fact_transactions.join(dim_date,\"transaction_id\",\"right\"))"
   ]
  }
 ],
 "metadata": {
  "application/vnd.databricks.v1+notebook": {
   "computePreferences": null,
   "dashboards": [],
   "environmentMetadata": {
    "base_environment": "",
    "environment_version": "2"
   },
   "inputWidgetPreferences": null,
   "language": "python",
   "notebookMetadata": {
    "pythonIndentUnit": 4
   },
   "notebookName": "Gold",
   "widgets": {}
  },
  "language_info": {
   "name": "python"
  }
 },
 "nbformat": 4,
 "nbformat_minor": 0
}
